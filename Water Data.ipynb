{
 "cells": [
  {
   "cell_type": "markdown",
   "metadata": {},
   "source": [
    "# Water Data"
   ]
  },
  {
   "cell_type": "markdown",
   "metadata": {},
   "source": [
    "I don't know about you but what usually happens when you pick Dissertation topic or commit yourself to a specific research topic is that you will always think about it. Doing this allows you to make cool connections you never knew your could make. \n",
    "\n",
    "## For example, I saw this OP-Ed piece on CNN\n",
    "\n",
    "The [article](https://www.cnn.com/2021/01/23/opinions/biden-climate-change-gillette-wyoming-coal-sutter/index.html) focuses on the town of Gilette, Wyoming, which accounts for 40% of the coal production in America. When we take into account that in [2019](https://www.eia.gov/energyexplained/energy-and-the-environment/where-greenhouse-gases-come-from.php#:~:text=In%202019%2C%20about%2046%25%20of,21%25%20came%20from%20burning%20coal.&text=The%20residential%20and%20commercial%20sectors,sector%20and%20the%20industrial%20sector.), 11% of all US energy consumption comes from coal, and that this coal production accounts for 21% of U.S. energy-related carbon dioxide emissions, we can estimate that Gilette makes up 4% of all US energy consumption and 8% of all energy-realted carbon dioxide emissions. \n",
    "\n",
    "In units, we can rephrase it as Gillete approximately accounts for 4 quadrillion BTU of US energy consumption and 410 million metric tons of CO2 emissions."
   ]
  },
  {
   "cell_type": "code",
   "execution_count": 1,
   "metadata": {},
   "outputs": [],
   "source": [
    "import matplotlib\n",
    "import matplotlib.pyplot as plt\n",
    "from climata.usgs import DailyValueIO\n",
    "import pandas as pd\n",
    "from datetime import datetime\n",
    "from pandas.plotting import register_matplotlib_converters\n",
    "import numpy as np\n",
    "\n",
    "register_matplotlib_converters()\n",
    "plt.style.use('ggplot')\n",
    "plt.rcParams['figure.figsize'] = (20.0, 10.0)"
   ]
  },
  {
   "cell_type": "code",
   "execution_count": 3,
   "metadata": {},
   "outputs": [],
   "source": [
    "# set parameters\n",
    "nyears = 10\n",
    "ndays = 365 * nyears\n",
    "station_id = \"06730200\"\n",
    "param_id = \"00060\"\n",
    "\n",
    "datelist = pd.date_range(end=datetime.today(), periods=ndays).tolist()\n",
    "data = DailyValueIO(\n",
    "    start_date=datelist[0],\n",
    "    end_date=datelist[-1],\n",
    "    station=station_id,\n",
    "    parameter=param_id,\n",
    ")"
   ]
  },
  {
   "cell_type": "code",
   "execution_count": 6,
   "metadata": {},
   "outputs": [
    {
     "ename": "AttributeError",
     "evalue": "'DailyValueIO' object has no attribute 'head'",
     "output_type": "error",
     "traceback": [
      "\u001b[0;31m---------------------------------------------------------------------------\u001b[0m",
      "\u001b[0;31mAttributeError\u001b[0m                            Traceback (most recent call last)",
      "\u001b[0;32m<ipython-input-6-0572ccd830ca>\u001b[0m in \u001b[0;36m<module>\u001b[0;34m\u001b[0m\n\u001b[0;32m----> 1\u001b[0;31m \u001b[0mdata\u001b[0m\u001b[0;34m.\u001b[0m\u001b[0mhead\u001b[0m\u001b[0;34m\u001b[0m\u001b[0;34m\u001b[0m\u001b[0m\n\u001b[0m",
      "\u001b[0;31mAttributeError\u001b[0m: 'DailyValueIO' object has no attribute 'head'"
     ]
    }
   ],
   "source": []
  },
  {
   "cell_type": "code",
   "execution_count": null,
   "metadata": {},
   "outputs": [],
   "source": []
  }
 ],
 "metadata": {
  "kernelspec": {
   "display_name": "Python 3",
   "language": "python",
   "name": "python3"
  },
  "language_info": {
   "codemirror_mode": {
    "name": "ipython",
    "version": 3
   },
   "file_extension": ".py",
   "mimetype": "text/x-python",
   "name": "python",
   "nbconvert_exporter": "python",
   "pygments_lexer": "ipython3",
   "version": "3.8.5"
  }
 },
 "nbformat": 4,
 "nbformat_minor": 4
}
